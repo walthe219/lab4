{
 "cells": [
  {
   "cell_type": "markdown",
   "id": "054dad85",
   "metadata": {},
   "source": [
    "# Task 1 - Qiskit Basics\n",
    "\n",
    "This task involves using simple gates functionality in Qiskit."
   ]
  },
  {
   "cell_type": "code",
   "execution_count": 6,
   "id": "6e0c7089",
   "metadata": {},
   "outputs": [],
   "source": [
    "# Add imports here, do not add any other code in this cell\n",
    "from qiskit import QuantumCircuit\n",
    "from qiskit import QuantumRegister\n",
    "from qiskit import ClassicalRegister"
   ]
  },
  {
   "cell_type": "code",
   "execution_count": 2,
   "id": "ae870e77",
   "metadata": {},
   "outputs": [
    {
     "data": {
      "text/html": [
       "<pre style=\"word-wrap: normal;white-space: pre;background: #fff0;line-height: 1.1;font-family: &quot;Courier New&quot;,Courier,monospace\">          ┌─┐   \n",
       "q_0: ─────┤M├───\n",
       "     ┌───┐└╥┘┌─┐\n",
       "q_1: ┤ X ├─╫─┤M├\n",
       "     └───┘ ║ └╥┘\n",
       "c: 2/══════╩══╩═\n",
       "           0  1 </pre>"
      ],
      "text/plain": [
       "          ┌─┐   \n",
       "q_0: ─────┤M├───\n",
       "     ┌───┐└╥┘┌─┐\n",
       "q_1: ┤ X ├─╫─┤M├\n",
       "     └───┘ ║ └╥┘\n",
       "c: 2/══════╩══╩═\n",
       "           0  1 "
      ]
     },
     "execution_count": 2,
     "metadata": {},
     "output_type": "execute_result"
    }
   ],
   "source": [
    "# Task 1.1 - Initialize a Quantum Circuit with 2 qubits and apply an X gate to the second qubit.\n",
    "# Then, measure all qubits and draw the circuit using the default text drawer.\n",
    "qc = QuantumCircuit(2,2)\n",
    "qc.x(1)\n",
    "qc.measure([0,1],[0,1])\n",
    "\n",
    "qc.draw()\n"
   ]
  },
  {
   "cell_type": "code",
   "execution_count": 3,
   "id": "9c85b25e",
   "metadata": {},
   "outputs": [
    {
     "data": {
      "image/png": "[encoded data removed]",
      "text/plain": [
       "<Figure size 370.906x284.278 with 1 Axes>"
      ]
     },
     "execution_count": 3,
     "metadata": {},
     "output_type": "execute_result"
    }
   ],
   "source": [
    "# Task 1.2 - Initialize a Quantum Circuit with 2 qubits and 2 classical bits, apply an H gate to both qubits.\n",
    "# Use a single H gate call and a single measure call.\n",
    "# Then, measure all qubits on the initialized classical bits, and draw the circuit in matplotlib style.\n",
    "\n",
    "qc = QuantumCircuit(2,2)\n",
    "\n",
    "qc.h([0,1])\n",
    "\n",
    "qc.measure([0,1],[0,1])\n",
    "\n",
    "qc.draw('mpl')"
   ]
  },
  {
   "cell_type": "code",
   "execution_count": 7,
   "id": "73d72a2f",
   "metadata": {},
   "outputs": [
    {
     "data": {
      "text/html": [
       "<pre style=\"word-wrap: normal;white-space: pre;background: #fff0;line-height: 1.1;font-family: &quot;Courier New&quot;,Courier,monospace\">     ┌───┐     ┌─┐   \n",
       "Q_0: ┤ H ├──■──┤M├───\n",
       "     └───┘┌─┴─┐└╥┘┌─┐\n",
       "Q_1: ─────┤ X ├─╫─┤M├\n",
       "          └───┘ ║ └╥┘\n",
       "C: 2/═══════════╩══╩═\n",
       "                0  1 </pre>"
      ],
      "text/plain": [
       "     ┌───┐     ┌─┐   \n",
       "Q_0: ┤ H ├──■──┤M├───\n",
       "     └───┘┌─┴─┐└╥┘┌─┐\n",
       "Q_1: ─────┤ X ├─╫─┤M├\n",
       "          └───┘ ║ └╥┘\n",
       "C: 2/═══════════╩══╩═\n",
       "                0  1 "
      ]
     },
     "execution_count": 7,
     "metadata": {},
     "output_type": "execute_result"
    }
   ],
   "source": [
    "# Task 1.3 - Initialize a quantum register and a classical register with 2 qubits/bits each.\n",
    "# Create a quantum circuit using these registers.\n",
    "# Name the quantum register \"Q\" and the classical register \"C\".\n",
    "# Create a bell pair\n",
    "# Measure all qubits on the classical bits and draw the circuit using the default text drawer.\n",
    "\n",
    "qr = QuantumRegister(2,'Q')\n",
    "cr = ClassicalRegister(2,'C')\n",
    "\n",
    "qc = QuantumCircuit(qr,cr)\n",
    "qc.h(0)\n",
    "qc.cx(0,1)\n",
    "\n",
    "qc.measure([0,1],[0,1])\n",
    "\n",
    "qc.draw()"
   ]
  },
  {
   "cell_type": "code",
   "execution_count": 8,
   "id": "3e50bfc5",
   "metadata": {},
   "outputs": [
    {
     "name": "stdout",
     "output_type": "stream",
     "text": [
      "Depth: 3\n",
      "Size: 4\n"
     ]
    }
   ],
   "source": [
    "# Task 1.4 - Print the depth and size of the circuit created in Task 1.3\n",
    "print(\"Depth:\", qc.depth())\n",
    "print(\"Size:\", qc.size())"
   ]
  }
 ],
 "metadata": {
  "kernelspec": {
   "display_name": ".venv (3.11.9)",
   "language": "python",
   "name": "python3"
  },
  "language_info": {
   "codemirror_mode": {
    "name": "ipython",
    "version": 3
   },
   "file_extension": ".py",
   "mimetype": "text/x-python",
   "name": "python",
   "nbconvert_exporter": "python",
   "pygments_lexer": "ipython3",
   "version": "3.11.9"
  }
 },
 "nbformat": 4,
 "nbformat_minor": 5
}
